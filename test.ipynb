{
 "cells": [
  {
   "cell_type": "code",
   "execution_count": 1,
   "metadata": {},
   "outputs": [],
   "source": [
    "movies = [\n",
    "    {\n",
    "        'id': 1,\n",
    "        'title': 'Avatar',\n",
    "        'overview': \"En un exuberante planeta llamado Pandora viven los Na'vi, seres que ...\",\n",
    "        'year': '2009',\n",
    "        'rating': 7.8,\n",
    "        'category': 'Acción'    \n",
    "    },\n",
    "    {\n",
    "        'id': 2,\n",
    "        'title': 'Avatar',\n",
    "        'overview': \"En un exuberante planeta llamado Pandora viven los Na'vi, seres que ...\",\n",
    "        'year': '2009',\n",
    "        'rating': 7.8,\n",
    "        'category': 'Acción'    \n",
    "    } \n",
    "]"
   ]
  },
  {
   "cell_type": "code",
   "execution_count": 8,
   "metadata": {},
   "outputs": [],
   "source": [
    "if list(filter(lambda x: x.get('id', None) == 3, movies)):\n",
    "    print(True\n",
    "    )"
   ]
  },
  {
   "cell_type": "code",
   "execution_count": 4,
   "metadata": {},
   "outputs": [
    {
     "name": "stdout",
     "output_type": "stream",
     "text": [
      "foo=Foo(count=4, size=20.5) bars=[Bar(apple='x1', banana='y'), Bar(apple='x2', banana='y')]\n",
      "{'foo': {'count': 4, 'size': 20.5}, 'bars': [{'apple': 'x1', 'banana': 'y'}, {'apple': 'x2', 'banana': 'y'}]}\n"
     ]
    }
   ],
   "source": [
    "from typing import Optional\n",
    "from pydantic import BaseModel\n",
    "\n",
    "\n",
    "class Foo(BaseModel):\n",
    "    count: int\n",
    "    size: Optional[float] = None\n",
    "\n",
    "\n",
    "class Bar(BaseModel):\n",
    "    apple = 'x'\n",
    "    banana = 'y'\n",
    "\n",
    "\n",
    "class Spam(BaseModel):\n",
    "    foo: Foo\n",
    "    bars: list[Bar]\n",
    "\n",
    "\n",
    "m = Spam(foo={'count': 4, 'size': 20.5}, bars=[{'apple': 'x1', 'banana2': 'y1'}, {'apple': 'x2'}])\n",
    "print(m)\n",
    "#> foo=Foo(count=4, size=None) bars=[Bar(apple='x1', banana='y'),\n",
    "#> Bar(apple='x2', banana='y')]\n",
    "print(m.dict())"
   ]
  },
  {
   "cell_type": "code",
   "execution_count": 1,
   "metadata": {},
   "outputs": [],
   "source": [
    "movies = [\n",
    "    {\n",
    "        'id': 1,\n",
    "        'title': 'Avatar',\n",
    "        'overview': \"En un exuberante planeta llamado Pandora viven los Na'vi, seres que ...\",\n",
    "        'year': '2009',\n",
    "        'rating': 7.8,\n",
    "        'category': 'Acción'    \n",
    "    },\n",
    "    {\n",
    "        'id': 2,\n",
    "        'title': 'Avatar',\n",
    "        'overview': \"En un exuberante planeta llamado Pandora viven los Na'vi, seres que ...\",\n",
    "        'year': '2009',\n",
    "        'rating': 7.8,\n",
    "        'category': 'Acción'    \n",
    "    } \n",
    "]"
   ]
  },
  {
   "cell_type": "code",
   "execution_count": 7,
   "metadata": {},
   "outputs": [],
   "source": [
    "movies[0] = {'id': 1,\n",
    " 'title': 'Avatar 2',\n",
    " 'overview': \"En un exuberante planeta llamado Pandora viven los Na'vi, seres que ...\",\n",
    " 'year': '2009',\n",
    " 'rating': 7.8,\n",
    " 'category': 'Acción'}"
   ]
  },
  {
   "cell_type": "code",
   "execution_count": 38,
   "metadata": {},
   "outputs": [
    {
     "ename": "StopIteration",
     "evalue": "",
     "output_type": "error",
     "traceback": [
      "\u001b[0;31m---------------------------------------------------------------------------\u001b[0m",
      "\u001b[0;31mStopIteration\u001b[0m                             Traceback (most recent call last)",
      "Cell \u001b[0;32mIn[38], line 1\u001b[0m\n\u001b[0;32m----> 1\u001b[0m movie_id \u001b[39m=\u001b[39m \u001b[39mnext\u001b[39;49m((index \u001b[39mfor\u001b[39;49;00m index, movie \u001b[39min\u001b[39;49;00m \u001b[39menumerate\u001b[39;49m(movies) \u001b[39mif\u001b[39;49;00m movie[\u001b[39m'\u001b[39;49m\u001b[39mid\u001b[39;49m\u001b[39m'\u001b[39;49m] \u001b[39m==\u001b[39;49m \u001b[39m5\u001b[39;49m))\n",
      "\u001b[0;31mStopIteration\u001b[0m: "
     ]
    }
   ],
   "source": [
    "movie_id = next((index for index, movie in enumerate(movies) if movie['id'] == 5))"
   ]
  },
  {
   "cell_type": "code",
   "execution_count": 41,
   "metadata": {},
   "outputs": [
    {
     "name": "stdout",
     "output_type": "stream",
     "text": [
      "0\n"
     ]
    }
   ],
   "source": [
    "for i in (index for index, movie in enumerate(movies) if movie['id'] == 1):\n",
    "    print(i)"
   ]
  },
  {
   "cell_type": "code",
   "execution_count": null,
   "metadata": {},
   "outputs": [],
   "source": [
    "first((index for index, movie in enumerate(movies) if movie['id'] == 5))"
   ]
  },
  {
   "cell_type": "code",
   "execution_count": 51,
   "metadata": {},
   "outputs": [
    {
     "data": {
      "text/plain": [
       "[{'id': 1,\n",
       "  'title': 'Avatar 2',\n",
       "  'overview': \"En un exuberante planeta llamado Pandora viven los Na'vi, seres que ...\",\n",
       "  'year': '2009',\n",
       "  'rating': 7.8,\n",
       "  'category': 'Acción'},\n",
       " {'id': 2,\n",
       "  'title': 'Avatar',\n",
       "  'overview': \"En un exuberante planeta llamado Pandora viven los Na'vi, seres que ...\",\n",
       "  'year': '2009',\n",
       "  'rating': 7.8,\n",
       "  'category': 'Acción'}]"
      ]
     },
     "execution_count": 51,
     "metadata": {},
     "output_type": "execute_result"
    }
   ],
   "source": [
    "movies"
   ]
  },
  {
   "cell_type": "code",
   "execution_count": 10,
   "metadata": {},
   "outputs": [
    {
     "data": {
      "text/plain": [
       "0"
      ]
     },
     "execution_count": 10,
     "metadata": {},
     "output_type": "execute_result"
    }
   ],
   "source": [
    "movies.index(next(filter(lambda n: n.get('id') == 1, movies)))"
   ]
  },
  {
   "cell_type": "code",
   "execution_count": 3,
   "metadata": {},
   "outputs": [],
   "source": [
    "import jwt\n",
    "\n",
    "def create_token(data: dict):\n",
    "    token: str = jwt.JWT.encode(payload=data, key='my_secret_key', algorithm='HS256')\n",
    "    return token\n",
    "\n",
    "def validate_token(token: str) -> dict:\n",
    "    data: dict = jwt.JWT.decode(token, key='my_secret_key', algorithm=['HS256'])\n",
    "    return data"
   ]
  },
  {
   "cell_type": "code",
   "execution_count": 4,
   "metadata": {},
   "outputs": [
    {
     "ename": "TypeError",
     "evalue": "encode() got an unexpected keyword argument 'algorithm'",
     "output_type": "error",
     "traceback": [
      "\u001b[0;31m---------------------------------------------------------------------------\u001b[0m",
      "\u001b[0;31mTypeError\u001b[0m                                 Traceback (most recent call last)",
      "Cell \u001b[0;32mIn[4], line 1\u001b[0m\n\u001b[0;32m----> 1\u001b[0m create_token({\u001b[39m'\u001b[39;49m\u001b[39muser\u001b[39;49m\u001b[39m'\u001b[39;49m: \u001b[39m'\u001b[39;49m\u001b[39mas\u001b[39;49m\u001b[39m'\u001b[39;49m, \u001b[39m'\u001b[39;49m\u001b[39mpassword\u001b[39;49m\u001b[39m'\u001b[39;49m: \u001b[39m12\u001b[39;49m})\n",
      "Cell \u001b[0;32mIn[3], line 4\u001b[0m, in \u001b[0;36mcreate_token\u001b[0;34m(data)\u001b[0m\n\u001b[1;32m      3\u001b[0m \u001b[39mdef\u001b[39;00m \u001b[39mcreate_token\u001b[39m(data: \u001b[39mdict\u001b[39m):\n\u001b[0;32m----> 4\u001b[0m     token: \u001b[39mstr\u001b[39m \u001b[39m=\u001b[39m jwt\u001b[39m.\u001b[39;49mJWT\u001b[39m.\u001b[39;49mencode(payload\u001b[39m=\u001b[39;49mdata, key\u001b[39m=\u001b[39;49m\u001b[39m'\u001b[39;49m\u001b[39mmy_secret_key\u001b[39;49m\u001b[39m'\u001b[39;49m, algorithm\u001b[39m=\u001b[39;49m\u001b[39m'\u001b[39;49m\u001b[39mHS256\u001b[39;49m\u001b[39m'\u001b[39;49m)\n\u001b[1;32m      5\u001b[0m     \u001b[39mreturn\u001b[39;00m token\n",
      "\u001b[0;31mTypeError\u001b[0m: encode() got an unexpected keyword argument 'algorithm'"
     ]
    }
   ],
   "source": [
    "create_token({'user': 'as', 'password': 12})"
   ]
  },
  {
   "cell_type": "code",
   "execution_count": 2,
   "metadata": {},
   "outputs": [],
   "source": [
    "l = set({1, 2, 3, 4})"
   ]
  },
  {
   "cell_type": "code",
   "execution_count": 6,
   "metadata": {},
   "outputs": [
    {
     "ename": "KeyError",
     "evalue": "5",
     "output_type": "error",
     "traceback": [
      "\u001b[0;31m---------------------------------------------------------------------------\u001b[0m",
      "\u001b[0;31mKeyError\u001b[0m                                  Traceback (most recent call last)",
      "Cell \u001b[0;32mIn[6], line 1\u001b[0m\n\u001b[0;32m----> 1\u001b[0m l\u001b[39m.\u001b[39;49mremove(\u001b[39m5\u001b[39;49m)\n",
      "\u001b[0;31mKeyError\u001b[0m: 5"
     ]
    }
   ],
   "source": [
    "l.remove(5)"
   ]
  },
  {
   "cell_type": "code",
   "execution_count": 5,
   "metadata": {},
   "outputs": [
    {
     "data": {
      "text/plain": [
       "{1, 2, 3, 4}"
      ]
     },
     "execution_count": 5,
     "metadata": {},
     "output_type": "execute_result"
    }
   ],
   "source": [
    "l"
   ]
  }
 ],
 "metadata": {
  "kernelspec": {
   "display_name": ".venv",
   "language": "python",
   "name": "python3"
  },
  "language_info": {
   "codemirror_mode": {
    "name": "ipython",
    "version": 3
   },
   "file_extension": ".py",
   "mimetype": "text/x-python",
   "name": "python",
   "nbconvert_exporter": "python",
   "pygments_lexer": "ipython3",
   "version": "3.9.15"
  },
  "orig_nbformat": 4,
  "vscode": {
   "interpreter": {
    "hash": "4419a486a0e76a032f0407861b62c2818bdd515491008d073497be606c7267e8"
   }
  }
 },
 "nbformat": 4,
 "nbformat_minor": 2
}
